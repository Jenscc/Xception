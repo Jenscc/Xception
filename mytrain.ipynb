{
 "cells": [
  {
   "cell_type": "code",
   "execution_count": 1,
   "metadata": {},
   "outputs": [],
   "source": [
    "import tensorflow as tf\n",
    "from tensorflow import keras\n",
    "from tensorflow.keras import layers\n",
    "from tensorflow.keras.callbacks import ReduceLROnPlateau,EarlyStopping\n",
    "import matplotlib.pyplot as plt\n",
    "import numpy as np\n",
    "import glob\n",
    "import os\n",
    "# import keras_metrics as km\n",
    "\n",
    "# 第一步：构建训练数据\n",
    "# 1.1 导入数据\n",
    "train_image_path = glob.glob('./test/dataset_LUSC_correct/*/*.png') # 已经将数据放在的代码的文件夹中。\n",
    "train_image_label = [int(path.split('\\\\')[1]=='yang') for path in train_image_path]  # 使用列表表达式。根据路径的特点，得出每个路径的图片对应的标签\n",
    "\n",
    "# 1.2 定义加载预处理数据的函数\n",
    "def load_preprocess_image(path, label):\n",
    "    image = tf.io.read_file(path)\n",
    "    image = tf.image.decode_png(image, channels = 3)\n",
    "    # image = tf.image.resize(image, [256, 256])\n",
    "    image = tf.cast(image, tf.float32)\n",
    "    image = image / 255 \n",
    "    label = tf.reshape(label, [1])   # 将标签 从一维 变成 二维。 [1 , 1, 0 , 1] -> [[1], [1], [0], [1]]\n",
    "    return image, label\n",
    "def load_preprocess_val_image(path,label):\n",
    "    image = tf.io.read_file(path)\n",
    "    image = tf.image.decode_png(image, channels = 3)\n",
    "    # image = tf.image.resize(image, [256, 256])\n",
    "    image = tf.cast(image, tf.float32)\n",
    "    image = image / 255\n",
    "    label = tf.reshape(label, [1])\n",
    "    return image, label\n",
    "# 1.3 使用路径和标签,创建数据集\n",
    "train_image_ds = tf.data.Dataset.from_tensor_slices((train_image_path, train_image_label))\n",
    "\n",
    "AUTOTUNE = tf.data.experimental.AUTOTUNE\n",
    "# train_image_ds = train_image_ds.map(load_preprocess_image, num=AUTOTUNE)  # AUTOTUNE 自动根据CPU进行并行运算\n",
    "train_image_ds = train_image_ds.map(load_preprocess_image, num_parallel_calls = AUTOTUNE)\n",
    "\n",
    "\n",
    "# 1.4 再对训练数据做一些处理\n",
    "BATCH_SIZE = 16\n",
    "train_count = len(train_image_path)\n",
    "train_image_ds = train_image_ds.shuffle(train_count).batch(BATCH_SIZE)\n",
    "\n",
    "# 第二步： 构建测试数据\n",
    "\n",
    "val_image_path = glob.glob('./test/dataset_LUSC_correct_test/*/*.png')\n",
    "val_image_label = [int(path.split('\\\\')[1] == 'yang') for path in val_image_path]\n",
    "\n",
    "val_image_ds = tf.data.Dataset.from_tensor_slices((val_image_path, val_image_label))\n",
    "val_image_ds = val_image_ds.map(load_preprocess_val_image, num_parallel_calls = AUTOTUNE )\n",
    "val_image_ds = val_image_ds.repeat().batch(BATCH_SIZE)\n",
    "\n",
    "val_count = len(val_image_path)"
   ]
  },
  {
   "cell_type": "code",
   "execution_count": 2,
   "metadata": {},
   "outputs": [],
   "source": [
    "# 第三步： keras内置的Xception网络的实现：\n",
    "covn_base = keras.applications.xception.Xception(\n",
    "    weights = 'imagenet',\n",
    "    include_top = False,\n",
    "    input_shape = (80, 80, 3),\n",
    "    pooling = 'avg'\n",
    ")\n",
    "covn_base.trainable = False\n",
    "# covn_base.summary()\n",
    "# 3.2 建立model\n",
    "model = keras.Sequential()\n",
    "model.add(covn_base)\n",
    "model.add(layers.Dense(256, activation = 'relu'))\n",
    "model.add(layers.Dense(1, activation = 'sigmoid'))\n",
    "# 3.3 model 编译\n",
    "model.compile(\n",
    "    optimizer= keras.optimizers.Adam(learning_rate = 0.0005),\n",
    "    loss = 'binary_crossentropy',\n",
    "    # metrics = ['accuracy',km.f1_score(), km.binary_precision(), km.binary_recall()]\n",
    "    metrics = ['accuracy']\n",
    ")\n"
   ]
  },
  {
   "cell_type": "code",
   "execution_count": 3,
   "metadata": {},
   "outputs": [
    {
     "name": "stdout",
     "output_type": "stream",
     "text": [
      "Epoch 1/5\n",
      "50/50 [==============================] - 10s 57ms/step - loss: 0.4688 - accuracy: 0.7588 - val_loss: 0.4607 - val_accuracy: 0.8687\n",
      "Epoch 2/5\n",
      "50/50 [==============================] - 2s 44ms/step - loss: 0.4302 - accuracy: 0.8388 - val_loss: 0.8030 - val_accuracy: 0.5938\n",
      "Epoch 3/5\n",
      "50/50 [==============================] - 2s 45ms/step - loss: 0.4241 - accuracy: 0.8300 - val_loss: 0.7584 - val_accuracy: 0.5500\n",
      "Epoch 4/5\n",
      "50/50 [==============================] - 2s 46ms/step - loss: 0.4217 - accuracy: 0.8188 - val_loss: 0.6790 - val_accuracy: 0.6625\n",
      "Epoch 5/5\n",
      "50/50 [==============================] - 2s 46ms/step - loss: 0.3627 - accuracy: 0.8550 - val_loss: 0.6104 - val_accuracy: 0.7063\n"
     ]
    }
   ],
   "source": [
    "initial_epochs = 5\n",
    "# 3.4 model 的训练\n",
    "history  = model.fit(\n",
    "    train_image_ds,\n",
    "    # steps_per_epoch = int(train_count / BATCH_SIZE)\n",
    "    steps_per_epoch = 50,\n",
    "    epochs = initial_epochs,\n",
    "    validation_data = val_image_ds,\n",
    "    # validation_steps =  int(val_count / BATCH_SIZE)\n",
    "    validation_steps = 10\n",
    ")\n"
   ]
  },
  {
   "cell_type": "code",
   "execution_count": 4,
   "metadata": {},
   "outputs": [
    {
     "name": "stdout",
     "output_type": "stream",
     "text": [
      "Epoch 6/15\n",
      "50/50 [==============================] - 10s 84ms/step - loss: 0.6045 - accuracy: 0.6875 - val_loss: 0.8006 - val_accuracy: 0.5875\n",
      "Epoch 7/15\n",
      "50/50 [==============================] - 4s 70ms/step - loss: 0.4609 - accuracy: 0.7850 - val_loss: 0.3174 - val_accuracy: 0.8875\n",
      "Epoch 8/15\n",
      "50/50 [==============================] - 4s 72ms/step - loss: 0.3427 - accuracy: 0.8675 - val_loss: 0.2354 - val_accuracy: 0.8875\n",
      "Epoch 9/15\n",
      "50/50 [==============================] - 4s 72ms/step - loss: 0.3488 - accuracy: 0.8462 - val_loss: 0.2547 - val_accuracy: 0.9062\n",
      "Epoch 10/15\n",
      "50/50 [==============================] - 4s 73ms/step - loss: 0.3127 - accuracy: 0.8487 - val_loss: 0.1591 - val_accuracy: 0.9312\n",
      "Epoch 11/15\n",
      "50/50 [==============================] - 4s 73ms/step - loss: 0.3429 - accuracy: 0.8537 - val_loss: 0.3010 - val_accuracy: 0.8562\n",
      "Epoch 12/15\n",
      "50/50 [==============================] - 4s 73ms/step - loss: 0.3104 - accuracy: 0.8700 - val_loss: 0.2611 - val_accuracy: 0.9187\n",
      "Epoch 13/15\n",
      "50/50 [==============================] - 4s 72ms/step - loss: 0.2933 - accuracy: 0.8725 - val_loss: 0.2082 - val_accuracy: 0.9000\n",
      "Epoch 14/15\n",
      "50/50 [==============================] - 4s 72ms/step - loss: 0.2505 - accuracy: 0.8900 - val_loss: 0.2316 - val_accuracy: 0.8875\n",
      "Epoch 15/15\n",
      "50/50 [==============================] - 4s 71ms/step - loss: 0.2474 - accuracy: 0.8925 - val_loss: 0.2835 - val_accuracy: 0.8813\n"
     ]
    }
   ],
   "source": [
    "# 第4步：微调\n",
    "# 4.1 解冻\n",
    "covn_base.trainable = True  \n",
    "# len(covn_base.layers)   # 133\n",
    "# 4.2 打开部分层，关闭前面的层\n",
    "fine_tune_at = -33\n",
    "for layer in covn_base.layers[:fine_tune_at]:\n",
    "    layer.trainable= False\n",
    "# 4.3 编译\n",
    "model.compile(\n",
    "    optimizer = keras.optimizers.Adam(learning_rate = 0.0005 /10),\n",
    "    loss = 'binary_crossentropy',\n",
    "    metrics = ['accuracy']\n",
    ")\n",
    "\n",
    "# 4.4 准备参数，开始训练\n",
    "fine_tune_epochs = 10\n",
    "total_epochs = initial_epochs + fine_tune_epochs\n",
    "history = model.fit(\n",
    "    train_image_ds,\n",
    "    steps_per_epoch = 50,\n",
    "    epochs = total_epochs,\n",
    "    initial_epoch = initial_epochs,\n",
    "    validation_data = val_image_ds,\n",
    "    validation_steps = 10\n",
    ")\n",
    "\n",
    "model.save(\"test/my_model.h5\")"
   ]
  },
  {
   "cell_type": "code",
   "execution_count": 5,
   "metadata": {},
   "outputs": [
    {
     "data": {
      "image/png": "[encoded data removed]",
      "text/plain": [
       "<Figure size 432x288 with 1 Axes>"
      ]
     },
     "metadata": {
      "needs_background": "light"
     },
     "output_type": "display_data"
    },
    {
     "data": {
      "image/png": "[encoded data removed]",
      "text/plain": [
       "<Figure size 432x288 with 1 Axes>"
      ]
     },
     "metadata": {
      "needs_background": "light"
     },
     "output_type": "display_data"
    }
   ],
   "source": [
    "# plot loss and accuracy image\n",
    "history_dict = history.history\n",
    "train_loss = history_dict[\"loss\"]\n",
    "train_accuracy = history_dict[\"accuracy\"]\n",
    "val_loss = history_dict[\"val_loss\"]\n",
    "val_accuracy = history_dict[\"val_accuracy\"]\n",
    "\n",
    "# figure 1\n",
    "plt.figure()\n",
    "plt.plot(range(10), train_loss, label='train_loss')\n",
    "plt.plot(range(10), val_loss, label='val_loss')\n",
    "plt.legend()\n",
    "plt.xlabel('epochs')\n",
    "plt.ylabel('loss')\n",
    "\n",
    "# figure 2\n",
    "plt.figure()\n",
    "plt.plot(range(10), train_accuracy, label='train_accuracy')\n",
    "plt.plot(range(10), val_accuracy, label='val_accuracy')\n",
    "plt.legend()\n",
    "plt.xlabel('epochs')\n",
    "plt.ylabel('accuracy')\n",
    "plt.show()"
   ]
  }
 ],
 "metadata": {
  "interpreter": {
   "hash": "734a4ae29d77f7f2c472599c9986f1d209ec24a454c56d97796afe019c1300fa"
  },
  "kernelspec": {
   "display_name": "myenv",
   "language": "python",
   "name": "python3"
  },
  "language_info": {
   "codemirror_mode": {
    "name": "ipython",
    "version": 3
   },
   "file_extension": ".py",
   "mimetype": "text/x-python",
   "name": "python",
   "nbconvert_exporter": "python",
   "pygments_lexer": "ipython3",
   "version": "3.7.11"
  },
  "orig_nbformat": 4
 },
 "nbformat": 4,
 "nbformat_minor": 2
}
